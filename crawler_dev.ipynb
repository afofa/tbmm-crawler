{
 "cells": [
  {
   "cell_type": "code",
   "execution_count": null,
   "metadata": {
    "collapsed": true
   },
   "outputs": [],
   "source": [
    "import requests\n",
    "from bs4 import BeautifulSoup\n",
    "import re"
   ]
  },
  {
   "cell_type": "code",
   "execution_count": null,
   "metadata": {
    "collapsed": true
   },
   "outputs": [],
   "source": [
    "mp_list_url = \"https://www.tbmm.gov.tr/develop/owa/milletvekillerimiz_sd.liste\""
   ]
  },
  {
   "cell_type": "code",
   "execution_count": null,
   "metadata": {},
   "outputs": [],
   "source": [
    "r = requests.get(mp_list_url, verify=False)"
   ]
  },
  {
   "cell_type": "code",
   "execution_count": null,
   "metadata": {},
   "outputs": [],
   "source": [
    "r.text"
   ]
  },
  {
   "cell_type": "code",
   "execution_count": null,
   "metadata": {},
   "outputs": [],
   "source": [
    "bs = BeautifulSoup(r.text, 'html.parser')"
   ]
  },
  {
   "cell_type": "code",
   "execution_count": null,
   "metadata": {
    "collapsed": true
   },
   "outputs": [],
   "source": [
    "title = bs.find('span', {'class':'AltKonuBaslikB16Gri'}).text.strip()"
   ]
  },
  {
   "cell_type": "code",
   "execution_count": null,
   "metadata": {},
   "outputs": [],
   "source": [
    "title"
   ]
  },
  {
   "cell_type": "code",
   "execution_count": null,
   "metadata": {},
   "outputs": [],
   "source": [
    "rows = bs.find('table')"
   ]
  },
  {
   "cell_type": "code",
   "execution_count": null,
   "metadata": {
    "scrolled": true
   },
   "outputs": [],
   "source": [
    "cities = []\n",
    "\n",
    "for i, row in enumerate(rows):\n",
    "    if i >= 2000:\n",
    "        break\n",
    "#     print(i)\n",
    "#     print(row)\n",
    "    \n",
    "    is_city = row.find('span')\n",
    "#     print('is city', is_city)\n",
    "    if is_city is not None and is_city != -1:\n",
    "        city = is_city.text\n",
    "        print(\"CITY: {}\".format(city))\n",
    "        city_dict = {'city': city, 'city_mps': []}\n",
    "        cities.append(city_dict)\n",
    "    \n",
    "    else:\n",
    "        is_mp = row.find('a')\n",
    "        \n",
    "#         print('is_mp', is_mp)\n",
    "        if is_mp is not None and is_mp != -1:\n",
    "            mp_name = is_mp.text\n",
    "            mp_url = is_mp.attrs['href']\n",
    "            mp_party = row.findAll('td')[-1].text\n",
    "            print(\"MP: {}\".format(mp_name))\n",
    "#             print(mp_url)\n",
    "            m = re.match(\"https://www.tbmm.gov.tr/develop/owa/milletvekillerimiz_sd.bilgi\\?p_donem=(\\d+)&p_sicil=(\\d+)\", mp_url)\n",
    "            mp_term = m.group(1) # p_donem\n",
    "            mp_registery = m.group(2) # p_sicil\n",
    "            mp_dict = {\n",
    "                        'name': mp_name,\n",
    "                        'term': mp_term,\n",
    "                        'party': mp_party,\n",
    "                        'registery': mp_registery,\n",
    "                        'url': mp_url,\n",
    "                      }\n",
    "            cities[-1]['city_mps'].append(mp_dict)"
   ]
  },
  {
   "cell_type": "code",
   "execution_count": null,
   "metadata": {},
   "outputs": [],
   "source": [
    "sum(list(map(lambda x: len(x['city_mps']), cities)))"
   ]
  },
  {
   "cell_type": "code",
   "execution_count": null,
   "metadata": {},
   "outputs": [],
   "source": [
    "assert len(cities) == 81"
   ]
  },
  {
   "cell_type": "code",
   "execution_count": null,
   "metadata": {},
   "outputs": [],
   "source": [
    "row"
   ]
  },
  {
   "cell_type": "code",
   "execution_count": null,
   "metadata": {},
   "outputs": [],
   "source": [
    "a = row.find('span')"
   ]
  },
  {
   "cell_type": "code",
   "execution_count": null,
   "metadata": {},
   "outputs": [],
   "source": [
    "a"
   ]
  },
  {
   "cell_type": "code",
   "execution_count": null,
   "metadata": {},
   "outputs": [],
   "source": [
    "for row in bs.find('table'):\n",
    "    print(row)\n",
    "    print(\"------\")"
   ]
  },
  {
   "cell_type": "code",
   "execution_count": null,
   "metadata": {},
   "outputs": [],
   "source": [
    "for i, row in enumerate(rows):\n",
    "    print(\"------------------------\")\n",
    "    print(i)\n",
    "    print(\"------------------------\")\n",
    "    print(row)"
   ]
  },
  {
   "cell_type": "code",
   "execution_count": null,
   "metadata": {},
   "outputs": [],
   "source": []
  },
  {
   "cell_type": "code",
   "execution_count": null,
   "metadata": {
    "collapsed": true
   },
   "outputs": [],
   "source": []
  }
 ],
 "metadata": {
  "kernelspec": {
   "display_name": "Python 3",
   "language": "python",
   "name": "python3"
  },
  "language_info": {
   "codemirror_mode": {
    "name": "ipython",
    "version": 3
   },
   "file_extension": ".py",
   "mimetype": "text/x-python",
   "name": "python",
   "nbconvert_exporter": "python",
   "pygments_lexer": "ipython3",
   "version": "3.6.8"
  }
 },
 "nbformat": 4,
 "nbformat_minor": 2
}
